{
  "nbformat": 4,
  "nbformat_minor": 0,
  "metadata": {
    "colab": {
      "name": "rideshare-classification.ipynb",
      "provenance": [],
      "collapsed_sections": [],
      "authorship_tag": "ABX9TyNP2dH2F0Beqo9V+cIQ64bW",
      "include_colab_link": true
    },
    "kernelspec": {
      "name": "python3",
      "display_name": "Python 3"
    }
  },
  "cells": [
    {
      "cell_type": "markdown",
      "metadata": {
        "id": "view-in-github",
        "colab_type": "text"
      },
      "source": [
        "<a href=\"https://colab.research.google.com/github/Malintha1996/parallel-linked-list/blob/master/rideshare_classification.ipynb\" target=\"_parent\"><img src=\"https://colab.research.google.com/assets/colab-badge.svg\" alt=\"Open In Colab\"/></a>"
      ]
    },
    {
      "cell_type": "code",
      "metadata": {
        "id": "KPYjXlsjbjdr",
        "colab_type": "code",
        "outputId": "97e65954-4514-45c0-ac78-00996451d022",
        "colab": {
          "base_uri": "https://localhost:8080/",
          "height": 128
        }
      },
      "source": [
        "from google.colab import drive\n",
        "drive.mount('/content/drive')"
      ],
      "execution_count": 1,
      "outputs": [
        
      ]
    },
    {
      "cell_type": "code",
      "metadata": {
        "id": "tlZVCSNjpGiT",
        "colab_type": "code",
        "outputId": "80b056fc-2f64-4614-fa0f-f9aaa30fcb35",
        "colab": {
          "base_uri": "https://localhost:8080/",
          "height": 54
        }
      },
      "source": [
        "import pandas as pd\n",
        "import seaborn as sns\n",
        "import numpy as np\n",
        "import matplotlib.pyplot  as plt\n",
        "from sklearn.ensemble import RandomForestClassifier\n",
        "from sklearn.svm import SVC\n",
        "from sklearn.svm import LinearSVC\n",
        "from sklearn.metrics import confusion_matrix,classification_report\n",
        "from sklearn.preprocessing import StandardScaler, LabelEncoder\n",
        "from sklearn.tree import DecisionTreeClassifier \n",
        "from sklearn.model_selection import train_test_split \n",
        "from sklearn.model_selection import cross_val_score\n",
        "from sklearn.impute import SimpleImputer\n",
        "from sklearn.compose import ColumnTransformer\n",
        "from sklearn.pipeline import Pipeline\n",
        "from sklearn.preprocessing import OneHotEncoder\n",
        "from sklearn.preprocessing import OrdinalEncoder\n",
        "from sklearn.metrics import roc_curve, roc_auc_score,f1_score\n",
        "from sklearn.experimental import enable_iterative_imputer\n",
        "from sklearn.impute import IterativeImputer\n",
        "from sklearn.preprocessing import MinMaxScaler\n",
        "from sklearn import linear_model\n",
        "from sklearn.feature_selection import SelectFromModel\n",
        "from sklearn.metrics import confusion_matrix\n",
        "from sklearn.ensemble import GradientBoostingClassifier\n",
        "from geopy.distance import vincenty\n",
        "from sklearn.model_selection import GridSearchCV\n",
        "import calendar\n",
        "\n",
        "%matplotlib inline"
      ],
      "execution_count": 2,
      "outputs": [
        {
          "output_type": "stream",
          "text": [
            "/usr/local/lib/python3.6/dist-packages/statsmodels/tools/_testing.py:19: FutureWarning: pandas.util.testing is deprecated. Use the functions in the public API at pandas.testing instead.\n",
            "  import pandas.util.testing as tm\n"
          ],
          "name": "stderr"
        }
      ]
    },
    {
      "cell_type": "markdown",
      "metadata": {
        "id": "2dgskIwcZjGn",
        "colab_type": "text"
      },
      "source": [
        "## Load Dataset"
      ]
    },
    {
      "cell_type": "code",
      "metadata": {
        "id": "lP-g0Vf6pSSC",
        "colab_type": "code",
        "colab": {}
      },
      "source": [
        "# training dataset\n",
        "x_train = pd.read_csv('/content/drive/My Drive/Colab Notebooks/data/ml-rideshare/train.csv')\n",
        "train_set = x_train.copy()\n",
        "tripid_train = x_train.pop('tripid')\n",
        "y_train = pd.DataFrame(x_train.pop('label'),columns=['label'])\n",
        "\n",
        "#testset\n",
        "x_test = pd.read_csv('/content/drive/My Drive/Colab Notebooks/data/ml-rideshare/test.csv')\n",
        "tripid_test = x_test.pop('tripid')\n",
        "x_train.head()"
      ],
      "execution_count": 0,
      "outputs": []
    },
    {
      "cell_type": "code",
      "metadata": {
        "id": "6t7GqA55zUVV",
        "colab_type": "code",
        "colab": {}
      },
      "source": [
        "from scipy import stats\n",
        "z_scores = stats.zscore(train_set)\n",
        "abs_z_scores = np.abs(z_scores)\n",
        "filtered_entries = (abs_z_scores < 3).all(axis=1)\n",
        "new_df = train_set[filtered_entries]\n",
        "print(new_df.shape)\n",
        "print(x_train.shape)"
      ],
      "execution_count": 0,
      "outputs": []
    },
    {
      "cell_type": "markdown",
      "metadata": {
        "id": "iXjHEwTMp28A",
        "colab_type": "text"
      },
      "source": [
        " ## Analyze training set"
      ]
    },
    {
      "cell_type": "markdown",
      "metadata": {
        "id": "mYopVhHs7__C",
        "colab_type": "text"
      },
      "source": [
        "Training dataset"
      ]
    },
    {
      "cell_type": "code",
      "metadata": {
        "id": "M_e2gpB0p65c",
        "colab_type": "code",
        "colab": {}
      },
      "source": [
        "# training feature set\n",
        "print(\"\\nTrain set description:\\n\",x_train.describe())\n",
        "print(\"\\nTrain set null count:\\n\",x_train.isnull().sum())\n",
        "\n",
        "#training labels\n",
        "print(\"\\nTrain set lables description:\\n\",y_train.describe())\n",
        "print(y_train['label'].value_counts().plot.barh(title=\"Label\"))"
      ],
      "execution_count": 0,
      "outputs": []
    },
    {
      "cell_type": "markdown",
      "metadata": {
        "id": "uyT-5C0JaiXl",
        "colab_type": "text"
      },
      "source": [
        "Test dataset"
      ]
    },
    {
      "cell_type": "code",
      "metadata": {
        "id": "QtwRZ4YAakr4",
        "colab_type": "code",
        "colab": {}
      },
      "source": [
        "#Testset features\n",
        "print(\"Test set description:\\n\",x_test.describe())"
      ],
      "execution_count": 0,
      "outputs": []
    },
    {
      "cell_type": "markdown",
      "metadata": {
        "id": "xjWX89tIItqr",
        "colab_type": "text"
      },
      "source": [
        "## Preprocess data"
      ]
    },
    {
      "cell_type": "code",
      "metadata": {
        "id": "N8_mGEPVIsjZ",
        "colab_type": "code",
        "colab": {}
      },
      "source": [
        "# Encode target variable\n",
        "le = preprocessing.LabelEncoder()\n",
        "y_train['label'] = le.fit_transform(y_train['label'])\n",
        "y_train['label'] = y_train['label'].replace({0: 1, 1: 0})"
      ],
      "execution_count": 0,
      "outputs": []
    },
    {
      "cell_type": "code",
      "metadata": {
        "id": "JTpwXu5iaOml",
        "colab_type": "code",
        "colab": {}
      },
      "source": [
        "# Format timestamp to datetime\n",
        "x_train['pickup_time'] = pd.to_datetime(x_train['pickup_time'], format=\"%m/%d/%Y  %H:%M\" )\n",
        "x_train['drop_time'] = pd.to_datetime(x_train['drop_time'], format=\"%m/%d/%Y  %H:%M\" )\n",
        "\n",
        "x_test['pickup_time'] = pd.to_datetime(x_test['pickup_time'], format=\"%m/%d/%Y  %H:%M\" )\n",
        "x_test['drop_time'] = pd.to_datetime(x_test['drop_time'], format=\"%m/%d/%Y  %H:%M\" )\n",
        "\n",
        "#create new features for day,hour,day_of_week,month and year\n",
        "x_train.rename(columns={'pickup_time':'pickup_datetime','drop_time':'drop_datetime'}, inplace=True)\n",
        "x_test.rename(columns={'pickup_time':'pickup_datetime','drop_time':'drop_datetime'}, inplace=True)\n",
        "\n",
        "\n",
        "x_train['pickup_day']=x_train['pickup_datetime'].apply(lambda x:x.day)\n",
        "x_train['pickup_hour']=x_train['pickup_datetime'].apply(lambda x:x.hour)\n",
        "x_train['pickup_day_of_week']=x_train['pickup_datetime'].apply(lambda x:calendar.day_name[x.weekday()])\n",
        "x_train['pickup_month']=x_train['pickup_datetime'].apply(lambda x:x.month)\n",
        "x_train['pickup_year']=x_train['pickup_datetime'].apply(lambda x:x.year)\n",
        "\n",
        "x_train['drop_day']=x_train['drop_datetime'].apply(lambda x:x.day)\n",
        "x_train['drop_hour']=x_train['drop_datetime'].apply(lambda x:x.hour)\n",
        "x_train['drop_day_of_week']=x_train['drop_datetime'].apply(lambda x:calendar.day_name[x.weekday()])\n",
        "x_train['drop_month']=x_train['drop_datetime'].apply(lambda x:x.month)\n",
        "x_train['drop_year']=x_train['drop_datetime'].apply(lambda x:x.year)\n",
        "\n",
        "\n",
        "x_test['pickup_day']=x_test['pickup_datetime'].apply(lambda x:x.day)\n",
        "x_test['pickup_hour']=x_test['pickup_datetime'].apply(lambda x:x.hour)\n",
        "x_test['pickup_day_of_week']=x_test['pickup_datetime'].apply(lambda x:calendar.day_name[x.weekday()])\n",
        "x_test['pickup_month']=x_test['pickup_datetime'].apply(lambda x:x.month)\n",
        "x_test['pickup_year']=x_test['pickup_datetime'].apply(lambda x:x.year)\n",
        "\n",
        "\n",
        "x_test['drop_day']=x_test['drop_datetime'].apply(lambda x:x.day)\n",
        "x_test['drop_hour']=x_test['drop_datetime'].apply(lambda x:x.hour)\n",
        "x_test['drop_day_of_week']=x_test['drop_datetime'].apply(lambda x:calendar.day_name[x.weekday()])\n",
        "x_test['drop_month']=x_test['drop_datetime'].apply(lambda x:x.month)\n",
        "x_test['drop_year']=x_test['drop_datetime'].apply(lambda x:x.year)\n",
        "\n",
        "x_train.pop('pickup_datetime')\n",
        "x_train.pop('drop_datetime')\n",
        "\n",
        "x_test.pop('pickup_datetime')\n",
        "x_test.pop('drop_datetime')\n",
        "\n",
        "x_train['pick_lat'] = np.radians(x_train[\"pick_lat\"])\n",
        "x_train['pick_lon'] = np.radians(x_train[\"pick_lon\"])\n",
        "x_train['drop_lat'] = np.radians(x_train[\"drop_lat\"])\n",
        "x_train['drop_lon'] = np.radians(x_train[\"drop_lon\"])\n",
        "\n",
        "x_test['pick_lat'] = np.radians(x_test[\"pick_lat\"])\n",
        "x_test['pick_lon'] = np.radians(x_test[\"pick_lon\"])\n",
        "x_test['drop_lat'] = np.radians(x_test[\"drop_lat\"])\n",
        "x_test['drop_lon'] = np.radians(x_test[\"drop_lon\"])\n",
        "\n",
        "# create new feature distance\n",
        "def distance_calc (row):\n",
        "    start = (row['pick_lat'], row['pick_lon'])\n",
        "    stop = (row['drop_lat'], row['drop_lon'])\n",
        "\n",
        "    return vincenty(start, stop).meters\n",
        "\n",
        "x_train['distance'] = x_train.apply(\n",
        "    lambda row: distance_calc(row), axis=1)\n",
        "\n",
        "x_test['distance'] = x_test.apply(\n",
        "    lambda row: distance_calc(row), axis=1)"
      ],
      "execution_count": 0,
      "outputs": []
    },
    {
      "cell_type": "code",
      "metadata": {
        "id": "RP8PIhOWmP8K",
        "colab_type": "code",
        "colab": {}
      },
      "source": [
        "x_temp = x_train.copy()\n",
        "x_temp['label'] = y_train\n",
        "counts = (x_temp[['pickup_day_of_week', 'label']]\n",
        "              .groupby(['pickup_day_of_week', 'label'])\n",
        "              .size()\n",
        "              .unstack('label')\n",
        "         )\n",
        "print(counts)\n",
        "ax = counts.plot.barh()\n",
        "ax.invert_yaxis()\n",
        "print(ax.legend(\n",
        "    loc='center right',  from sklearn import linear_model\n",
        " from sklearn.feature_selection import SelectFromModel\n",
        "from sklearn.metrics import confusion_matrix\n",
        "from sklearn.ensemble import GradientBoostingClassifier\n",
        "    bbox_to_anchor=(1.3, 0.5), \n",
        "    title='label'\n",
        "))"
      ],
      "execution_count": 0,
      "outputs": []
    },
    {
      "cell_type": "code",
      "metadata": {
        "id": "ASwSsUjPrWdr",
        "colab_type": "code",
        "colab": {}
      },
      "source": [
        "counts = (x_temp[['drop_day_of_week', 'label']]\n",
        "              .groupby(['drop_day_of_week', 'label'])\n",
        "              .size()\n",
        "              .unstack('label')\n",
        "         )\n",
        "print(counts)\n",
        "ax = counts.plot.barh()\n",
        "ax.invert_yaxis()\n",
        "print(ax.legend(\n",
        "    loc='center right', \n",
        "    bbox_to_anchor=(1.3, 0.5), \n",
        "    title='label'\n",
        "))"
      ],
      "execution_count": 0,
      "outputs": []
    },
    {
      "cell_type": "code",
      "metadata": {
        "id": "XMfMbR_fs8Df",
        "colab_type": "code",
        "colab": {}
      },
      "source": [
        "counts1 = (x_temp[['pickup_month', 'label']]\n",
        "              .groupby(['pickup_month', 'label'])\n",
        "              .size()\n",
        "              .unstack('label')\n",
        "         )\n",
        "print(counts1)\n",
        "\n",
        "counts2= (x_temp[['drop_month', 'label']]\n",
        "              .groupby(['drop_month', 'label'])\n",
        "              .size()\n",
        "              .unstack('label')\n",
        "         )\n",
        "print(counts2)\n",
        "\n",
        "print(x_train['pickup_month'].nunique())\n",
        "print(x_train['pickup_day'].nunique())\n",
        "print(x_train['meter_waiting_fare'].nunique())\n",
        "print(x_train['meter_waiting_till_pickup'].nunique())\n",
        "print(x_train['meter_waiting'].nunique())\n",
        "print(x_train['duration'].nunique())"
      ],
      "execution_count": 0,
      "outputs": []
    },
    {
      "cell_type": "code",
      "metadata": {
        "id": "yXZ9ycK49ZCQ",
        "colab_type": "code",
        "colab": {}
      },
      "source": [
        "counts = (x_temp[['additional_fare', 'label']]\n",
        "              .groupby(['additional_fare', 'label'])\n",
        "              .size()\n",
        "              .unstack('label')\n",
        "         )\n",
        "print(counts)\n",
        "ax = counts.plot.barh()\n",
        "ax.invert_yaxis()\n",
        "print(ax.legend(\n",
        "    loc='center right', \n",
        "    bbox_to_anchor=(1.3, 0.5), \n",
        "    title='label'\n",
        "))"
      ],
      "execution_count": 0,
      "outputs": []
    },
    {
      "cell_type": "markdown",
      "metadata": {
        "id": "o99369EPNOvp",
        "colab_type": "text"
      },
      "source": [
        "# Model creation and training"
      ]
    },
    {
      "cell_type": "code",
      "metadata": {
        "id": "r5IWJHAmbIZG",
        "colab_type": "code",
        "colab": {}
      },
      "source": [
        "# Create preprocessing pipeline\n",
        "\n",
        "#Feature selection\n",
        "numeric_columns = ['additional_fare',\n",
        "                   'duration',\n",
        "                   'meter_waiting',\n",
        "                   'pickup_day',\n",
        "                   'pickup_hour',\n",
        "                   'drop_hour',\n",
        "                   'meter_waiting_fare',\n",
        "                   'meter_waiting_till_pickup',\n",
        "                   'distance',\n",
        "                   'fare']\n",
        "                   \n",
        "categorical_columns = []\n",
        "\n",
        "numeric_preprocessing_steps = Pipeline([\n",
        "    ('simple_imputer', SimpleImputer(strategy='mean')),\n",
        "    ('standard_scaler',StandardScaler())\n",
        "])\n",
        "\n",
        "categorical_preprocessing_steps = Pipeline ([                               \n",
        "    ('categorical_imputer', SimpleImputer(strategy ='most_frequent')),\n",
        "    ('encode', OneHotEncoder()),\n",
        "\n",
        "])\n",
        "\n",
        "# preprocessing steps of the pipeline\n",
        "preprocessor = ColumnTransformer(\n",
        "    transformers = [\n",
        "        (\"numeric\", numeric_preprocessing_steps, numeric_columns),\n",
        "        (\"categorical\",categorical_preprocessing_steps,categorical_columns)\n",
        "    ],\n",
        "    remainder = \"drop\"\n",
        ")\n"
      ],
      "execution_count": 0,
      "outputs": []
    },
    {
      "cell_type": "code",
      "metadata": {
        "id": "OG4G2vlRNTxX",
        "colab_type": "code",
        "colab": {}
      },
      "source": [
        "# Split training and test data\n",
        "RANDOM_SEED = 6  \n",
        "X_train, X_test, Y_train, Y_test = train_test_split(x_train, y_train, test_size=0.2,\n",
        "    shuffle=True,\n",
        "    stratify=y_train,\n",
        "    random_state=RANDOM_SEED) \n",
        "\n",
        "# Model definition  \n",
        "estimator =  RandomForestClassifier()\n",
        "#estimator =  GradientBoostingClassifier()\n",
        "#estimator =  DecisionTreeClassifier(max_depth=11,min_samples_split=7,min_samples_leaf=6,random_state=0)\n",
        "\n",
        "full_pipeline = Pipeline([\n",
        "    (\"preprocessor\", preprocessor),\n",
        "    #(\"feature_selection\",SelectFromModel(LinearSVC(loss='l2', penalty='l1', dual=False,max_iter=1000))),\n",
        "    (\"estimator\", estimator),\n",
        "])"
      ],
      "execution_count": 0,
      "outputs": []
    },
    {
      "cell_type": "code",
      "metadata": {
        "id": "Ttv82UZb_LiC",
        "colab_type": "code",
        "colab": {}
      },
      "source": [
        "#hyper-parameter tuning for model selection\n",
        "\n",
        "weights = np.linspace(0.05, 0.95, 20)\n",
        "param_grid={\n",
        "        'estimator__class_weight': [{0: w} for w in [1, 2, 4, 6, 10]],\n",
        "        \"estimator__max_depth\": [3, None],\n",
        "        \"estimator__min_samples_split\": [1, 3, 10],\n",
        "        \"estimator__min_samples_leaf\": [1, 3, 10]\n",
        "}\n",
        "\n",
        "g_search = GridSearchCV(estimator=full_pipeline, param_grid = param_grid)\n",
        "g_fit = g_search.fit(X_train, Y_train['label'])\n",
        "best_clf = g_fit.best_estimator_\n",
        "print(best_clf.score(X_test,Y_test['label']))"
      ],
      "execution_count": 0,
      "outputs": []
    },
    {
      "cell_type": "code",
      "metadata": {
        "id": "eCB-3o4jO9Zb",
        "colab_type": "code",
        "outputId": "80499321-b040-4030-9e30-eb633efda1f7",
        "colab": {
          "base_uri": "https://localhost:8080/",
          "height": 175
        }
      },
      "source": [
        "# confution matrix\n",
        "pred = best_clf.predict(X_test)\n",
        "pd.crosstab(pred,Y_test['label'],rownames=['predicted'],colnames=['actual'])"
      ],
      "execution_count": 0,
      "outputs": [
        {
          "output_type": "stream",
          "text": [
            "(3436,)\n",
            "(3436, 1)\n"
          ],
          "name": "stdout"
        },
        {
          "output_type": "execute_result",
          "data": {
            "text/html": [
              "<div>\n",
              "<style scoped>\n",
              "    .dataframe tbody tr th:only-of-type {\n",
              "        vertical-align: middle;\n",
              "    }\n",
              "\n",
              "    .dataframe tbody tr th {\n",
              "        vertical-align: top;\n",
              "    }\n",
              "\n",
              "    .dataframe thead th {\n",
              "        text-align: right;\n",
              "    }\n",
              "</style>\n",
              "<table border=\"1\" class=\"dataframe\">\n",
              "  <thead>\n",
              "    <tr style=\"text-align: right;\">\n",
              "      <th>actual</th>\n",
              "      <th>0</th>\n",
              "      <th>1</th>\n",
              "    </tr>\n",
              "    <tr>\n",
              "      <th>predicted</th>\n",
              "      <th></th>\n",
              "      <th></th>\n",
              "    </tr>\n",
              "  </thead>\n",
              "  <tbody>\n",
              "    <tr>\n",
              "      <th>0</th>\n",
              "      <td>178</td>\n",
              "      <td>19</td>\n",
              "    </tr>\n",
              "    <tr>\n",
              "      <th>1</th>\n",
              "      <td>158</td>\n",
              "      <td>3081</td>\n",
              "    </tr>\n",
              "  </tbody>\n",
              "</table>\n",
              "</div>"
            ],
            "text/plain": [
              "actual       0     1\n",
              "predicted           \n",
              "0          178    19\n",
              "1          158  3081"
            ]
          },
          "metadata": {
            "tags": []
          },
          "execution_count": 13
        }
      ]
    },
    {
      "cell_type": "code",
      "metadata": {
        "id": "I_1JqL5iOUT0",
        "colab_type": "code",
        "colab": {}
      },
      "source": [
        ""
      ],
      "execution_count": 0,
      "outputs": []
    },
    {
      "cell_type": "code",
      "metadata": {
        "id": "Zugg4hHUGESL",
        "colab_type": "code",
        "colab": {}
      },
      "source": [
        "x_test.head()"
      ],
      "execution_count": 0,
      "outputs": []
    },
    {
      "cell_type": "markdown",
      "metadata": {
        "id": "7STnWha64-Ha",
        "colab_type": "text"
      },
      "source": [
        "## Generate output"
      ]
    },
    {
      "cell_type": "code",
      "metadata": {
        "id": "RBVhyUVl4_Y4",
        "colab_type": "code",
        "colab": {}
      },
      "source": [
        "# Generate the best model for the whole dataset.\n",
        "g_search = GridSearchCV(full_pipeline, parameters)\n",
        "g_fit = g_search.fit(x_train, y_train['label'])\n",
        "best_clf = g_fit.best_estimator_\n",
        "\n",
        "# generate the predictions for the test dataset\n",
        "pred = best_clf.predict(x_test)\n",
        "cls_lbls = pd.Series(pred)\n",
        "prediction = pd.DataFrame(cls_lbls,columns=['prediction'])\n",
        "output = pd.DataFrame()\n",
        "output['tripid'] = tripid_test\n",
        "output['prediction'] = prediction['prediction']\n",
        "\n",
        "output.to_csv('/content/drive/My Drive/Colab Notebooks/data/ml-rideshare/output-new-1.csv',index = False)"
      ],
      "execution_count": 0,
      "outputs": []
    }
  ]
}
